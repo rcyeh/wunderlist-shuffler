{
 "cells": [
  {
   "cell_type": "code",
   "execution_count": null,
   "metadata": {
    "collapsed": true
   },
   "outputs": [],
   "source": [
    "import requests"
   ]
  },
  {
   "cell_type": "code",
   "execution_count": null,
   "metadata": {
    "collapsed": true
   },
   "outputs": [],
   "source": [
    "import json"
   ]
  },
  {
   "cell_type": "code",
   "execution_count": null,
   "metadata": {
    "collapsed": false
   },
   "outputs": [],
   "source": [
    "with open(\"wunderlist-config.json\", \"r\") as f:\n",
    "    config = json.loads(\"\".join(f.readlines()))\n",
    "authheaders = config[\"auth\"]"
   ]
  },
  {
   "cell_type": "code",
   "execution_count": null,
   "metadata": {
    "collapsed": true
   },
   "outputs": [],
   "source": [
    "# authheaders = {\"X-Access-Token\": \"xxxxxx\", \"X-Client-ID\": \"yyyyyy\"}\n",
    "\n",
    "def get_lists(authheaders):\n",
    "    r = requests.get('https://a.wunderlist.com/api/v1/lists',\n",
    "                headers=authheaders)\n",
    "    return json.loads(r.text)\n",
    "\n",
    "def get_folders(authheaders):\n",
    "    r = requests.get('https://a.wunderlist.com/api/v1/folders',\n",
    "                headers=authheaders)\n",
    "    return json.loads(r.text)\n",
    "\n",
    "def get_positions(authheaders):\n",
    "    r = requests.get('https://a.wunderlist.com/api/v1/list_positions',\n",
    "                headers=authheaders)\n",
    "    return json.loads(r.text)\n",
    "\n",
    "def put_positions(authheaders, list_id, values):\n",
    "    positions = get_positions(authheaders)\n",
    "    for p in positions:\n",
    "        if p[\"id\"] == list_id:\n",
    "            revision = p[\"revision\"]\n",
    "            payload = { \"revision\": revision, \"values\": values }\n",
    "            requests.put('https://a.wunderlist.com/api/v1/list_positions/' + str(revision),\n",
    "                        headers=authheaders, json=payload)\n",
    "\n",
    "def rotate_lists(authheaders, day_of_week, month_of_year):\n",
    "    lists = get_lists(authheaders)\n",
    "    folders = get_folders(authheaders)\n",
    "    positions = get_positions(authheaders)\n",
    "    weekdays = {}\n",
    "    near_months = {}\n",
    "    far_months = {}\n",
    "    for f in folders:\n",
    "        if f['title'] == 'Week':\n",
    "            weekdays = f\n",
    "        if f['title'] == 'Near Months':\n",
    "            near_months = f\n",
    "        if f['title'] == 'Far Months':\n",
    "            far_months = f\n",
    "    namedict = {}\n",
    "    listdict = {}\n",
    "    for l in lists:\n",
    "        listname[l['id']] = l['title']\n",
    "        listid[l['title']] = l['id']\n",
    "        if l['id'] in weekdays['list_ids']:\n",
    "            namedict[l['title']] = l['id']\n",
    "        if l['id'] in near_months['list_ids']:\n",
    "            namedict[l['title']] = l['id']\n",
    "        if l['id'] in far_months['list_ids']:\n",
    "            namedict[l['title']] = l['id']\n",
    "    listname_positions = [ listname[x] for x in positions['values'] ]\n",
    "\n",
    "    weekday_order = get_weekdays_from(day_of_week)\n",
    "    month_order = get_months_from(month_of_year)\n",
    "\n",
    "\n",
    "def rotate_list_to(x, ordered_list):\n",
    "    while x in ordered_list and x != ordered_list[0]:\n",
    "        ordered_list = ordered_list[1:] + [ordered_list[0]]\n",
    "    return ordered_list\n",
    "\n",
    "def get_weekdays_from(day_of_week):\n",
    "    weekday_order = ['Sunday', 'Monday', 'Tuesday', 'Wednesday', 'Thursday', 'Friday', 'Saturday']\n",
    "    return rotate_list_to(day_of_week, weekday_order)\n",
    "\n",
    "def get_months_from(month_of_year):\n",
    "    month_order = ['January', 'February', 'March', 'April', 'May', 'June', 'July', 'August', 'September', 'October', 'November', 'December']\n",
    "    return rotate_list_to(month_of_year, month_order)\n"
   ]
  },
  {
   "cell_type": "code",
   "execution_count": null,
   "metadata": {
    "collapsed": false
   },
   "outputs": [],
   "source": [
    "    lists = get_lists(authheaders)\n",
    "    folders = get_folders(authheaders)\n",
    "    positions = get_positions(authheaders)\n"
   ]
  },
  {
   "cell_type": "code",
   "execution_count": null,
   "metadata": {
    "collapsed": false
   },
   "outputs": [],
   "source": [
    "    weekdays = {}\n",
    "    near_months = {}\n",
    "    far_months = {}\n",
    "    for f in folders:\n",
    "        if f['title'] == 'Week':\n",
    "            weekdays = f\n",
    "        if f['title'] == 'Near Months':\n",
    "            near_months = f\n",
    "        if f['title'] == 'Far Months':\n",
    "            far_months = f\n",
    "    namedict = {}\n",
    "    listname = {}\n",
    "    listid = {}\n",
    "    for l in lists:\n",
    "        listname[str(l['id'])] = l['title']\n",
    "        listid[l['title']] = l['id']\n",
    "        if l['id'] in weekdays['list_ids']:\n",
    "            namedict[l['title']] = l['id']\n",
    "        if l['id'] in near_months['list_ids']:\n",
    "            namedict[l['title']] = l['id']\n",
    "        if l['id'] in far_months['list_ids']:\n",
    "            namedict[l['title']] = l['id']\n",
    "    listname_positions = [ listname[str(x)] for x in positions[0]['values'] ]\n"
   ]
  },
  {
   "cell_type": "code",
   "execution_count": null,
   "metadata": {
    "collapsed": false
   },
   "outputs": [],
   "source": [
    "listname_positions"
   ]
  },
  {
   "cell_type": "code",
   "execution_count": null,
   "metadata": {
    "collapsed": false
   },
   "outputs": [],
   "source": [
    "top_day = \"Saturday\"\n",
    "weekday_order = get_weekdays_from(top_day)\n",
    "saw_top_day = False\n",
    "lists_to_cull = []\n",
    "wi = 0\n",
    "for pi in range(len(listname_positions)):\n",
    "    if listname_positions[pi] in weekday_order:\n",
    "        if not saw_top_day:\n",
    "            if listname_positions[pi] != top_day:\n",
    "                lists_to_cull += [listname_positions[pi]]\n",
    "            else:\n",
    "                saw_top_day = True\n",
    "        listname_positions[pi] = weekday_order[wi]\n",
    "        wi += 1\n",
    "listname_positions\n",
    "lists_to_cull"
   ]
  },
  {
   "cell_type": "code",
   "execution_count": null,
   "metadata": {
    "collapsed": false
   },
   "outputs": [],
   "source": [
    "listid['Friday']"
   ]
  },
  {
   "cell_type": "code",
   "execution_count": null,
   "metadata": {
    "collapsed": true
   },
   "outputs": [],
   "source": [
    "def get_tasks(authheaders, list_id):\n",
    "    payload = { \"list_id\": list_id }\n",
    "    r = requests.get('https://a.wunderlist.com/api/v1/tasks',\n",
    "                headers=authheaders, params=payload)\n",
    "    return json.loads(r.text)\n",
    "\n",
    "def get_task(authheaders, task_id):\n",
    "    r = requests.get('https://a.wunderlist.com/api/v1/tasks/' + str(task_id),\n",
    "                headers=authheaders)\n",
    "    return json.loads(r.text)\n",
    "\n",
    "def patch_task(authheaders, task_id, task_data):\n",
    "    r = requests.patch('https://a.wunderlist.com/api/v1/tasks/' + str(task_id),\n",
    "                headers=authheaders, json=task_data)\n",
    "    return json.loads(r.text)"
   ]
  },
  {
   "cell_type": "code",
   "execution_count": null,
   "metadata": {
    "collapsed": false
   },
   "outputs": [],
   "source": [
    "saturday_tasks = get_tasks(authheaders, listid['Saturday'])\n",
    "sunday_tasks = get_tasks(authheaders, listid['Sunday'])\n",
    "saturday_tasks"
   ]
  },
  {
   "cell_type": "code",
   "execution_count": null,
   "metadata": {
    "collapsed": false
   },
   "outputs": [],
   "source": [
    "sunday_tasks"
   ]
  },
  {
   "cell_type": "code",
   "execution_count": null,
   "metadata": {
    "collapsed": false,
    "scrolled": true
   },
   "outputs": [],
   "source": [
    "get_task(authheaders,  )"
   ]
  },
  {
   "cell_type": "code",
   "execution_count": null,
   "metadata": {
    "collapsed": true
   },
   "outputs": [],
   "source": [
    "# move all tasks to Sunday\n",
    "for t in saturday_tasks:\n",
    "    if 'recurrence_count' not in t:\n",
    "        patch_task(authheaders, task_id=t['id'],\n",
    "                  task_data={'revision': t['revision'],\n",
    "                            'title': '*' + t['title'],\n",
    "                            'list_id': })"
   ]
  },
  {
   "cell_type": "code",
   "execution_count": null,
   "metadata": {
    "collapsed": false
   },
   "outputs": [],
   "source": [
    "patch_task(authheaders, task_id=, \n",
    "           task_data={ 'revision': 2, 'completed': True })"
   ]
  },
  {
   "cell_type": "code",
   "execution_count": null,
   "metadata": {
    "collapsed": true
   },
   "outputs": [],
   "source": [
    "patch_task(authheaders, task_id=, \n",
    "           task_data={ 'revision': 7, 'title': '*Podcasts', 'list_id': })"
   ]
  },
  {
   "cell_type": "code",
   "execution_count": null,
   "metadata": {
    "collapsed": true
   },
   "outputs": [],
   "source": []
  },
  {
   "cell_type": "code",
   "execution_count": null,
   "metadata": {
    "collapsed": false
   },
   "outputs": [],
   "source": [
    "listid['Friday']"
   ]
  },
  {
   "cell_type": "code",
   "execution_count": null,
   "metadata": {
    "collapsed": false
   },
   "outputs": [],
   "source": [
    "weekdays = {}\n",
    "near_months = {}\n",
    "far_months = {}\n",
    "for f in folders:\n",
    "    if f['title'] == 'Week':\n",
    "        weekdays = f\n",
    "    if f['title'] == 'Near Months':\n",
    "        near_months = f\n",
    "    if f['title'] == 'Far Months':\n",
    "        far_months = f\n",
    "\n",
    "weekdays"
   ]
  },
  {
   "cell_type": "code",
   "execution_count": null,
   "metadata": {
    "collapsed": false
   },
   "outputs": [],
   "source": [
    "weekdaymap = {}\n",
    "for l in lists:\n",
    "    if l['id'] in weekdays:\n",
    "        weekdaymap[l['title']] = l['id']\n",
    "weekdaymap"
   ]
  },
  {
   "cell_type": "code",
   "execution_count": null,
   "metadata": {
    "collapsed": true
   },
   "outputs": [],
   "source": [
    "weekday_order = ['Sunday', 'Monday', 'Tuesday', 'Wednesday', 'Thursday', 'Friday', 'Saturday']"
   ]
  },
  {
   "cell_type": "code",
   "execution_count": null,
   "metadata": {
    "collapsed": false
   },
   "outputs": [],
   "source": [
    "get_weekdays_from(\"Saturday\")"
   ]
  },
  {
   "cell_type": "code",
   "execution_count": null,
   "metadata": {
    "collapsed": false
   },
   "outputs": [],
   "source": [
    "positions"
   ]
  },
  {
   "cell_type": "code",
   "execution_count": null,
   "metadata": {
    "collapsed": true
   },
   "outputs": [],
   "source": []
  },
  {
   "cell_type": "code",
   "execution_count": null,
   "metadata": {
    "collapsed": false
   },
   "outputs": [],
   "source": [
    "r = requests.get('https://a.wunderlist.com/api/v1/list_positions',\n",
    "                headers=authheaders)\n",
    "r.text"
   ]
  },
  {
   "cell_type": "code",
   "execution_count": null,
   "metadata": {
    "collapsed": false
   },
   "outputs": [],
   "source": [
    "payload = {\"revision\":0,\n",
    "           \"values\":[]}\n",
    "\n",
    "r = requests.put('https://a.wunderlist.com/api/v1/list_positions/',\n",
    "                headers=authheaders, json=payload)\n",
    "r.text"
   ]
  }
 ],
 "metadata": {
  "kernelspec": {
   "display_name": "Python 3",
   "language": "python",
   "name": "python3"
  },
  "language_info": {
   "codemirror_mode": {
    "name": "ipython",
    "version": 3
   },
   "file_extension": ".py",
   "mimetype": "text/x-python",
   "name": "python",
   "nbconvert_exporter": "python",
   "pygments_lexer": "ipython3",
   "version": "3.3.5"
  }
 },
 "nbformat": 4,
 "nbformat_minor": 0
}
